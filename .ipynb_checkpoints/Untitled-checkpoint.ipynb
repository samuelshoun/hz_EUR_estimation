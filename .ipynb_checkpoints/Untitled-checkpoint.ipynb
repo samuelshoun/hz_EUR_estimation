{
 "cells": [
  {
   "cell_type": "code",
   "execution_count": 11,
   "id": "consecutive-universe",
   "metadata": {},
   "outputs": [],
   "source": [
    "import os\n",
    "\n",
    "import pandas as np\n",
    "import numpy as np\n",
    "import matplotlib.pyplot as plt\n",
    "import seaborn as sns\n",
    "sns.set()"
   ]
  },
  {
   "cell_type": "code",
   "execution_count": 158,
   "id": "honey-composer",
   "metadata": {},
   "outputs": [
    {
     "data": {
      "text/plain": [
       "array([ 440,  440,  440,  440,  440,  440,  440,  440,  440,  440,  440,\n",
       "        440,  660,  660,  660,  660,  660,  660,  660,  660,  880,  880,\n",
       "        880,  880,  880,  880, 1056, 1056, 1056, 1056, 1056, 1056, 1056,\n",
       "       1056, 1056, 1056, 1320, 1320, 1320, 1320, 1320, 1320, 1320, 1320,\n",
       "       2640])"
      ]
     },
     "execution_count": 158,
     "metadata": {},
     "output_type": "execute_result"
    }
   ],
   "source": [
    "spacing = np.concatenate([np.repeat(440, 12), \n",
    "                          np.repeat(660, 8),\n",
    "                          np.repeat(880, 6), \n",
    "                          np.repeat(1056, 10),\n",
    "                          np.repeat(1320, 8),\n",
    "                          np.repeat(2640, 1)])\n",
    "spacing"
   ]
  },
  {
   "cell_type": "code",
   "execution_count": null,
   "id": "eight-cathedral",
   "metadata": {},
   "outputs": [],
   "source": [
    "np.concatenate([np.repeat(45, 6), np.repeat(38, 6),\n",
    "               np.repeat])"
   ]
  },
  {
   "cell_type": "code",
   "execution_count": 154,
   "id": "oriented-turner",
   "metadata": {},
   "outputs": [
    {
     "data": {
      "text/plain": [
       "(0.0, 108.59741379066435)"
      ]
     },
     "execution_count": 154,
     "metadata": {},
     "output_type": "execute_result"
    },
    {
     "data": {
      "image/png": "[encoded data removed]",
      "text/plain": [
       "<Figure size 432x288 with 1 Axes>"
      ]
     },
     "metadata": {},
     "output_type": "display_data"
    }
   ],
   "source": [
    "eur_per_ft = 35 * np.log(spacing) - 170\n",
    "\n",
    "plt.scatter(spacing, eur_per_ft)\n",
    "plt.xlim(0,)\n",
    "plt.ylim(0,)"
   ]
  },
  {
   "cell_type": "code",
   "execution_count": null,
   "id": "secure-amazon",
   "metadata": {},
   "outputs": [],
   "source": []
  }
 ],
 "metadata": {
  "kernelspec": {
   "display_name": "Python 3",
   "language": "python",
   "name": "python3"
  },
  "language_info": {
   "codemirror_mode": {
    "name": "ipython",
    "version": 3
   },
   "file_extension": ".py",
   "mimetype": "text/x-python",
   "name": "python",
   "nbconvert_exporter": "python",
   "pygments_lexer": "ipython3",
   "version": "3.7.9"
  }
 },
 "nbformat": 4,
 "nbformat_minor": 5
}
