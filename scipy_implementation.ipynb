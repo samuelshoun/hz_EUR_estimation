{
 "cells": [
  {
   "cell_type": "markdown",
   "id": "informational-syria",
   "metadata": {},
   "source": [
    "### this is an adaptation from a highly relevant scipy implementation by stackoverflow user James Phillips, found here:\n",
    "https://stackoverflow.com/questions/51972637/nonlinear-regression-with-python-whats-a-simple-method-to-fit-this-data-bette"
   ]
  },
  {
   "cell_type": "code",
   "execution_count": 94,
   "id": "elder-steal",
   "metadata": {},
   "outputs": [],
   "source": [
    "import numpy as np\n",
    "import scipy, matplotlib\n",
    "import matplotlib.pyplot as plt\n",
    "from scipy.optimize import curve_fit, differential_evolution"
   ]
  },
  {
   "cell_type": "code",
   "execution_count": 95,
   "id": "alert-structure",
   "metadata": {},
   "outputs": [],
   "source": [
    "xData = np.array([19.1647, 18.0189, 16.9550, 15.7683, 14.7044, 13.6269, 12.6040, 11.4309, 10.2987, 9.23465, 8.18440, 7.89789, 7.62498, 7.36571, 7.01106, 6.71094, 6.46548, 6.27436, 6.16543, 6.05569, 5.91904, 5.78247, 5.53661, 4.85425, 4.29468, 3.74888, 3.16206, 2.58882, 1.93371, 1.52426, 1.14211, 0.719035, 0.377708, 0.0226971, -0.223181, -0.537231, -0.878491, -1.27484, -1.45266, -1.57583, -1.61717])\n",
    "yData = np.array([0.644557, 0.641059, 0.637555, 0.634059, 0.634135, 0.631825, 0.631899, 0.627209, 0.622516, 0.617818, 0.616103, 0.613736, 0.610175, 0.606613, 0.605445, 0.603676, 0.604887, 0.600127, 0.604909, 0.588207, 0.581056, 0.576292, 0.566761, 0.555472, 0.545367, 0.538842, 0.529336, 0.518635, 0.506747, 0.499018, 0.491885, 0.484754, 0.475230, 0.464514, 0.454387, 0.444861, 0.437128, 0.415076, 0.401363, 0.390034, 0.378698])\n"
   ]
  },
  {
   "cell_type": "code",
   "execution_count": 117,
   "id": "willing-version",
   "metadata": {},
   "outputs": [],
   "source": [
    "def func(x, L, a, b, Offset): # Sigmoid A With Offset from zunzun.com\n",
    "    return  L / (1.0 + np.exp(-a * (x-b))) + Offset"
   ]
  },
  {
   "cell_type": "code",
   "execution_count": 118,
   "id": "universal-consciousness",
   "metadata": {},
   "outputs": [],
   "source": [
    "def sumOfSquaredError(parameterTuple):\n",
    "    val = func(xData, *parameterTuple)\n",
    "    return np.sum((yData - val) ** 2.0)"
   ]
  },
  {
   "cell_type": "code",
   "execution_count": 121,
   "id": "connected-least",
   "metadata": {},
   "outputs": [],
   "source": [
    "def generate_Initial_Parameters():\n",
    "    # min and max used for bounds\n",
    "    maxX = max(xData)\n",
    "    minX = min(xData)\n",
    "    maxY = max(yData)\n",
    "    minY = min(yData)\n",
    "\n",
    "    parameterBounds = []\n",
    "    parameterBounds.append([minX, maxX]) # search bounds for L\n",
    "    parameterBounds.append([minX, maxX]) # search bounds for a\n",
    "    parameterBounds.append([minX, maxX]) # search bounds for b\n",
    "    parameterBounds.append([0.0, maxY]) # search bounds for Offset\n",
    "    \n",
    "    # \"seed\" the np random number generator for repeatable results\n",
    "    result = differential_evolution(sumOfSquaredError, parameterBounds, seed=3)\n",
    "    return result.x"
   ]
  },
  {
   "cell_type": "code",
   "execution_count": 122,
   "id": "intensive-ghost",
   "metadata": {},
   "outputs": [],
   "source": [
    "# generate initial parameter values\n",
    "geneticParameters = generate_Initial_Parameters()"
   ]
  },
  {
   "cell_type": "code",
   "execution_count": 123,
   "id": "single-queen",
   "metadata": {},
   "outputs": [],
   "source": [
    "# curve fit the test data\n",
    "fittedParameters, pcov = curve_fit(func, xData, yData, geneticParameters)"
   ]
  },
  {
   "cell_type": "code",
   "execution_count": 124,
   "id": "opposed-offering",
   "metadata": {},
   "outputs": [
    {
     "name": "stdout",
     "output_type": "stream",
     "text": [
      "Parameters [ 0.86591046  0.22219139 -5.66535434 -0.21906173]\n"
     ]
    }
   ],
   "source": [
    "print('Parameters', fittedParameters)"
   ]
  },
  {
   "cell_type": "code",
   "execution_count": 125,
   "id": "numerical-mainstream",
   "metadata": {},
   "outputs": [],
   "source": [
    "modelPredictions = func(xData, *fittedParameters)"
   ]
  },
  {
   "cell_type": "code",
   "execution_count": 126,
   "id": "committed-today",
   "metadata": {},
   "outputs": [],
   "source": [
    "absError = modelPredictions - yData"
   ]
  },
  {
   "cell_type": "code",
   "execution_count": 127,
   "id": "detected-expense",
   "metadata": {},
   "outputs": [
    {
     "name": "stdout",
     "output_type": "stream",
     "text": [
      "RMSE: 0.00842416828243283\n",
      "R-squared: 0.9886345978998541\n"
     ]
    }
   ],
   "source": [
    "SE = np.square(absError) # squared errors\n",
    "MSE = np.mean(SE) # mean squared errors\n",
    "RMSE = np.sqrt(MSE) # Root Mean Squared Error, RMSE\n",
    "Rsquared = 1.0 - (np.var(absError) / np.var(yData))\n",
    "print('RMSE:', RMSE)\n",
    "print('R-squared:', Rsquared)"
   ]
  },
  {
   "cell_type": "code",
   "execution_count": 128,
   "id": "popular-obligation",
   "metadata": {},
   "outputs": [],
   "source": [
    "def ModelAndScatterPlot(graphWidth, graphHeight):\n",
    "    f = plt.figure(figsize=(graphWidth/100.0, graphHeight/100.0), dpi=100)\n",
    "    axes = f.add_subplot(111)\n",
    "\n",
    "    # first the raw data as a scatter plot\n",
    "    axes.plot(xData, yData,  'D')\n",
    "\n",
    "    # create data for the fitted equation plot\n",
    "    xModel = np.linspace(min(xData), max(xData))\n",
    "    yModel = func(xModel, *fittedParameters)\n",
    "\n",
    "    # now the model as a line plot \n",
    "    axes.plot(xModel, yModel)\n",
    "\n",
    "    axes.set_xlabel('X Data') # X axis data label\n",
    "    axes.set_ylabel('Y Data') # Y axis data label\n",
    "\n",
    "    plt.show()\n",
    "    plt.close('all') # clean up after using pyplot"
   ]
  },
  {
   "cell_type": "code",
   "execution_count": 129,
   "id": "intellectual-notice",
   "metadata": {},
   "outputs": [
    {
     "data": {
      "image/png": "[encoded data removed]",
      "text/plain": [
       "<Figure size 800x600 with 1 Axes>"
      ]
     },
     "metadata": {
      "needs_background": "light"
     },
     "output_type": "display_data"
    }
   ],
   "source": [
    "graphWidth = 800\n",
    "graphHeight = 600\n",
    "ModelAndScatterPlot(graphWidth, graphHeight)"
   ]
  },
  {
   "cell_type": "code",
   "execution_count": null,
   "id": "opposed-setup",
   "metadata": {},
   "outputs": [],
   "source": []
  }
 ],
 "metadata": {
  "kernelspec": {
   "display_name": "Python 3",
   "language": "python",
   "name": "python3"
  },
  "language_info": {
   "codemirror_mode": {
    "name": "ipython",
    "version": 3
   },
   "file_extension": ".py",
   "mimetype": "text/x-python",
   "name": "python",
   "nbconvert_exporter": "python",
   "pygments_lexer": "ipython3",
   "version": "3.7.9"
  }
 },
 "nbformat": 4,
 "nbformat_minor": 5
}
